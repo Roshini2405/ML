{
 "cells": [
  {
   "cell_type": "code",
   "execution_count": 1,
   "id": "d34267a6-2747-4399-9bad-cf58d2724b0d",
   "metadata": {},
   "outputs": [
    {
     "name": "stdout",
     "output_type": "stream",
     "text": [
      "Accuracy: 0.6648333333333334\n",
      "\n",
      "Classification Report:\n",
      "               precision    recall  f1-score   support\n",
      "\n",
      "           0       0.76      0.48      0.59      6000\n",
      "           1       0.62      0.85      0.72      6000\n",
      "\n",
      "    accuracy                           0.66     12000\n",
      "   macro avg       0.69      0.66      0.65     12000\n",
      "weighted avg       0.69      0.66      0.65     12000\n",
      "\n",
      "Text: 'I really enjoyed this, highly recommend!' => Sentiment: Negative\n",
      "Text: 'Completely useless, very disappointed.' => Sentiment: Positive\n"
     ]
    }
   ],
   "source": [
    "import pandas as pd\n",
    "from sklearn.feature_extraction.text import TfidfVectorizer\n",
    "from sklearn.model_selection import train_test_split\n",
    "from sklearn.ensemble import RandomForestClassifier\n",
    "from sklearn.metrics import classification_report, accuracy_score\n",
    "\n",
    "# Load the dataset\n",
    "df = pd.read_csv(\"sampled_dataset.csv\")\n",
    "\n",
    "# Keep only necessary columns\n",
    "df = df[['text', 'target']]\n",
    "\n",
    "# Convert target: 0 -> 0 (negative), 4 -> 1 (positive)\n",
    "df['label'] = df['target'].map({0: 0, 4: 1})\n",
    "\n",
    "# Vectorize text using TF-IDF (limited to 1000 features)\n",
    "vectorizer = TfidfVectorizer(stop_words='english', max_features=1000)\n",
    "X = vectorizer.fit_transform(df['text'])\n",
    "y = df['label']\n",
    "\n",
    "# Train-test split\n",
    "X_train, X_test, y_train, y_test = train_test_split(\n",
    "    X, y, test_size=0.2, random_state=42, stratify=y\n",
    ")\n",
    "\n",
    "# Random Forest with fixed, optimized settings\n",
    "rf = RandomForestClassifier(\n",
    "    n_estimators=50,      # fewer trees for faster training\n",
    "    max_depth=10,         # limit depth to control size/speed\n",
    "    min_samples_split=5,  # slightly increase to reduce overfitting\n",
    "    random_state=42,\n",
    "    n_jobs=-1             # use all available CPU cores\n",
    ")\n",
    "rf.fit(X_train, y_train)\n",
    "\n",
    "# Evaluate on test data\n",
    "y_pred = rf.predict(X_test)\n",
    "print(\"Accuracy:\", accuracy_score(y_test, y_pred))\n",
    "print(\"\\nClassification Report:\\n\", classification_report(y_test, y_pred, zero_division=0))\n",
    "\n",
    "# Predict new samples\n",
    "new_texts = [\n",
    "    \"I really enjoyed this, highly recommend!\",\n",
    "    \"Completely useless, very disappointed.\"\n",
    "]\n",
    "\n",
    "new_vectors = vectorizer.transform(new_texts)\n",
    "predictions = rf.predict(new_vectors)\n",
    "\n",
    "for text, pred in zip(new_texts, predictions):\n",
    "    sentiment = \"Positive\" if pred == 1 else \"Negative\"\n",
    "    print(f\"Text: '{text}' => Sentiment: {sentiment}\")\n"
   ]
  },
  {
   "cell_type": "code",
   "execution_count": null,
   "id": "c22a1686-4e55-44e9-889f-dc45b3f4d438",
   "metadata": {},
   "outputs": [],
   "source": []
  }
 ],
 "metadata": {
  "kernelspec": {
   "display_name": "Python 3 (ipykernel)",
   "language": "python",
   "name": "python3"
  },
  "language_info": {
   "codemirror_mode": {
    "name": "ipython",
    "version": 3
   },
   "file_extension": ".py",
   "mimetype": "text/x-python",
   "name": "python",
   "nbconvert_exporter": "python",
   "pygments_lexer": "ipython3",
   "version": "3.12.4"
  }
 },
 "nbformat": 4,
 "nbformat_minor": 5
}
