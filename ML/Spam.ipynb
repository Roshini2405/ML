{
 "cells": [
  {
   "cell_type": "code",
   "execution_count": 1,
   "id": "4f1fcc38-e365-4fb3-92d8-b136a587f19d",
   "metadata": {},
   "outputs": [
    {
     "name": "stdout",
     "output_type": "stream",
     "text": [
      "Accuracy: 99.03%\n",
      "              precision    recall  f1-score   support\n",
      "\n",
      "           0       0.99      0.99      0.99       742\n",
      "           1       0.98      0.98      0.98       293\n",
      "\n",
      "    accuracy                           0.99      1035\n",
      "   macro avg       0.99      0.99      0.99      1035\n",
      "weighted avg       0.99      0.99      0.99      1035\n",
      "\n",
      "Congratulations! You won a lottery. Claim now!\n",
      "Spam\n",
      "Heloo, we have a meeting tonight\n",
      "Ham\n"
     ]
    }
   ],
   "source": [
    "import pandas as pd\n",
    "import numpy as np\n",
    "from sklearn.feature_extraction.text import TfidfVectorizer\n",
    "from sklearn.model_selection import train_test_split\n",
    "from sklearn.svm import SVC\n",
    "from sklearn.metrics import accuracy_score, classification_report\n",
    "\n",
    "# Load dataset (You can replace this with your dataset)\n",
    "data = pd.read_csv(\"spam.csv\", encoding='latin-1')\n",
    "data = data[['label', 'text']]\n",
    "data.columns = ['label', 'message']  # Rename for consistency\n",
    "\n",
    "data['label'] = data['label'].map({'ham': 0, 'spam': 1})\n",
    "\n",
    "# Text preprocessing\n",
    "vectorizer = TfidfVectorizer(stop_words='english', max_features=5000)\n",
    "X = vectorizer.fit_transform(data['message'])\n",
    "y = data['label']\n",
    "\n",
    "# Split dataset into training and testing sets\n",
    "X_train, X_test, y_train, y_test = train_test_split(X, y, test_size=0.2, random_state=42)\n",
    "\n",
    "# Train SVM model\n",
    "svm_model = SVC(kernel='linear')\n",
    "svm_model.fit(X_train, y_train)\n",
    "\n",
    "# Predictions\n",
    "y_pred = svm_model.predict(X_test)\n",
    "\n",
    "# Evaluate model\n",
    "accuracy = accuracy_score(y_test, y_pred)\n",
    "print(f'Accuracy: {accuracy * 100:.2f}%')\n",
    "print(classification_report(y_test, y_pred))\n",
    "\n",
    "def predict_email(email_text):\n",
    "    email_vector = vectorizer.transform([email_text])\n",
    "    prediction = svm_model.predict(email_vector)\n",
    "    return \"Spam\" if prediction[0] == 1 else \"Ham\"\n",
    "\n",
    "test_email = \"Congratulations! You won a lottery. Claim now!\"\n",
    "print(test_email)\n",
    "print(predict_email(test_email))\n",
    "test_email2 = \"Heloo, we have a meeting tonight\"\n",
    "print(test_email2)\n",
    "print(predict_email(test_email2))"
   ]
  },
  {
   "cell_type": "code",
   "execution_count": null,
   "id": "6f3bb858-8b95-4b5c-bbf8-adb3a1462b75",
   "metadata": {},
   "outputs": [],
   "source": []
  }
 ],
 "metadata": {
  "kernelspec": {
   "display_name": "Python 3 (ipykernel)",
   "language": "python",
   "name": "python3"
  },
  "language_info": {
   "codemirror_mode": {
    "name": "ipython",
    "version": 3
   },
   "file_extension": ".py",
   "mimetype": "text/x-python",
   "name": "python",
   "nbconvert_exporter": "python",
   "pygments_lexer": "ipython3",
   "version": "3.12.4"
  }
 },
 "nbformat": 4,
 "nbformat_minor": 5
}
