{
 "cells": [
  {
   "cell_type": "code",
   "execution_count": null,
   "id": "d34267a6-2747-4399-9bad-cf58d2724b0d",
   "metadata": {},
   "outputs": [],
   "source": []
  }
 ],
 "metadata": {
  "kernelspec": {
   "display_name": "",
   "name": ""
  },
  "language_info": {
   "name": ""
  }
 },
 "nbformat": 4,
 "nbformat_minor": 5
}
